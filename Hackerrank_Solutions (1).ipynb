{
  "nbformat": 4,
  "nbformat_minor": 0,
  "metadata": {
    "colab": {
      "name": "Hackerrank Solutions.ipynb",
      "provenance": [],
      "collapsed_sections": []
    },
    "kernelspec": {
      "name": "python3",
      "display_name": "Python 3"
    },
    "language_info": {
      "name": "python"
    }
  },
  "cells": [
    {
      "cell_type": "code",
      "metadata": {
        "colab": {
          "base_uri": "https://localhost:8080/"
        },
        "id": "vUbVzPnB2eUa",
        "outputId": "b3702e1c-2fee-462f-896a-6d81deb79390"
      },
      "source": [
        "if __name__ == '__main__':\n",
        "    n = int(input())\n",
        "    student_marks = {}\n",
        "    for _ in range(n):\n",
        "        line = input().split()\n",
        "        name, scores = line[0], line[1:]\n",
        "        o=len(scores)\n",
        "        scores = map(float, scores)\n",
        "        student_marks[name] = scores\n",
        "    query_name = input()\n",
        "    query_scores = student_marks[query_name]\n",
        "    print(\"{0:.2f}\".format(sum(query_scores)/(o)))"
      ],
      "execution_count": null,
      "outputs": [
        {
          "output_type": "stream",
          "name": "stdout",
          "text": [
            "3\n",
            "Krishna 67 68 69\n",
            "Arjun 70 98 63\n",
            "Malika 52 56 60\n",
            "Arjun\n",
            "77.00\n"
          ]
        }
      ]
    },
    {
      "cell_type": "code",
      "metadata": {
        "colab": {
          "base_uri": "https://localhost:8080/"
        },
        "id": "IKC7K57L2pky",
        "outputId": "85a6232d-2610-4105-a515-56b64897cd1d"
      },
      "source": [
        "n=input().split()\n",
        "number,stamps=n[0],n[1:]\n",
        "stamps=set(stamps)\n",
        "print(len(stamps))"
      ],
      "execution_count": null,
      "outputs": [
        {
          "output_type": "stream",
          "name": "stdout",
          "text": [
            "2 just bhai yo bhai\n",
            "3\n"
          ]
        }
      ]
    },
    {
      "cell_type": "code",
      "metadata": {
        "colab": {
          "base_uri": "https://localhost:8080/"
        },
        "id": "AhpGvpTl5smH",
        "outputId": "7a318b9d-a9d1-4509-a621-b9335e9d677e"
      },
      "source": [
        "n =input()\n",
        "stamps=input()\n",
        "stamps=set(stamps)\n",
        "STDOUT=len(stamps)\n",
        "print(STDOUT)"
      ],
      "execution_count": null,
      "outputs": [
        {
          "output_type": "stream",
          "name": "stdout",
          "text": [
            "2\n",
            "Uk France France Germany\n",
            "12\n"
          ]
        }
      ]
    },
    {
      "cell_type": "code",
      "metadata": {
        "colab": {
          "base_uri": "https://localhost:8080/"
        },
        "id": "d2sx0HNQ7MCP",
        "outputId": "957adf7e-11be-497b-9662-eed4db857d60"
      },
      "source": [
        "stamps"
      ],
      "execution_count": null,
      "outputs": [
        {
          "output_type": "execute_result",
          "data": {
            "text/plain": [
              "{'China', 'France', 'New', 'UK', 'USA', 'Zealand'}"
            ]
          },
          "metadata": {},
          "execution_count": 10
        }
      ]
    },
    {
      "cell_type": "code",
      "metadata": {
        "colab": {
          "base_uri": "https://localhost:8080/"
        },
        "id": "WHf8vRhY6ruq",
        "outputId": "5865cb66-2b74-4508-df15-2279a85be192"
      },
      "source": [
        "n=input().split()\n",
        "number,stamps=n[0],n[1:]\n",
        "stamps=set(stamps)\n",
        "print(len(stamps))\n"
      ],
      "execution_count": null,
      "outputs": [
        {
          "output_type": "stream",
          "name": "stdout",
          "text": [
            "7 UK China USA France New Zealand UK France\n",
            "6\n"
          ]
        }
      ]
    },
    {
      "cell_type": "code",
      "metadata": {
        "colab": {
          "base_uri": "https://localhost:8080/"
        },
        "id": "_xsWo_MG7DR9",
        "outputId": "bef5f3ae-260a-4df6-cce8-e8709759725e"
      },
      "source": [
        "# Enter your code here. Read input from STDIN. Print output to STDOUT\n",
        "n=input()\n",
        "stamps=input().split(' ')\n",
        "stamps=set(stamps)\n",
        "\n",
        "print(len(stamps))"
      ],
      "execution_count": null,
      "outputs": [
        {
          "output_type": "stream",
          "name": "stdout",
          "text": [
            "7\n",
            "UK China USA France New Zealand UK France\n",
            "6\n"
          ]
        }
      ]
    },
    {
      "cell_type": "code",
      "metadata": {
        "colab": {
          "base_uri": "https://localhost:8080/"
        },
        "id": "kOYP0lX9eb4l",
        "outputId": "be64bb56-3ce0-4921-b65a-d6409f083b4f"
      },
      "source": [
        "print(stamps)"
      ],
      "execution_count": null,
      "outputs": [
        {
          "output_type": "stream",
          "name": "stdout",
          "text": [
            "{'New', 'France', 'USA', 'UK', 'Zealand', 'China'}\n"
          ]
        }
      ]
    },
    {
      "cell_type": "code",
      "metadata": {
        "colab": {
          "base_uri": "https://localhost:8080/"
        },
        "id": "m239prxzcxq-",
        "outputId": "38767d4a-cbfa-48ff-dc5f-ccf6b9b592ec"
      },
      "source": [
        "'UK China USA France New Zealand'print(stamps)"
      ],
      "execution_count": null,
      "outputs": [
        {
          "output_type": "stream",
          "name": "stdout",
          "text": [
            "[\"'UK China USA France New Zealand'\"]\n"
          ]
        }
      ]
    },
    {
      "cell_type": "code",
      "metadata": {
        "colab": {
          "base_uri": "https://localhost:8080/"
        },
        "id": "fLKW51kk80Zi",
        "outputId": "e5473cfb-1587-473c-a0b3-8c545efb5c99"
      },
      "source": [
        "7stamps"
      ],
      "execution_count": null,
      "outputs": [
        {
          "output_type": "execute_result",
          "data": {
            "text/plain": [
              "{'UK China USA France New Zealand UK France'}"
            ]
          },
          "metadata": {},
          "execution_count": 19
        }
      ]
    },
    {
      "cell_type": "code",
      "metadata": {
        "colab": {
          "base_uri": "https://localhost:8080/"
        },
        "id": "S2IyzD8Q7ceL",
        "outputId": "f2a607ec-27c9-4b71-c488-1901a07407da"
      },
      "source": [
        "print(len(set([str(input()) for x in range(int(input()))])))"
      ],
      "execution_count": null,
      "outputs": [
        {
          "output_type": "stream",
          "name": "stdout",
          "text": [
            "7\n",
            "uk\n",
            "france\n",
            "germany\n",
            "india\n",
            "india\n",
            "ek\n",
            "uk\n",
            "5\n"
          ]
        }
      ]
    },
    {
      "cell_type": "code",
      "metadata": {
        "colab": {
          "base_uri": "https://localhost:8080/"
        },
        "id": "7dnK3xlGfgw-",
        "outputId": "e90b8739-1e1e-4017-efeb-329e1039d396"
      },
      "source": [
        "for x in range(int(input())):\n",
        "  x=set(str(input()))\n",
        "print(len(x))  "
      ],
      "execution_count": null,
      "outputs": [
        {
          "output_type": "stream",
          "name": "stdout",
          "text": [
            "7\n",
            "uk\n",
            "china\n",
            "new zealand\n",
            "usa\n",
            "france\n",
            "uk\n",
            "rance\n",
            "5\n"
          ]
        }
      ]
    },
    {
      "cell_type": "code",
      "metadata": {
        "colab": {
          "base_uri": "https://localhost:8080/"
        },
        "id": "JSl9ud-VgNOY",
        "outputId": "13d2391c-7217-4b10-b3e4-2f5aa9c0b3fa"
      },
      "source": [
        "for x in range(int(input())):\n",
        "  x=set(str(input()))\n",
        "print(len(x)) "
      ],
      "execution_count": null,
      "outputs": [
        {
          "output_type": "stream",
          "name": "stdout",
          "text": [
            "7\n",
            "uk\n",
            "china\n",
            "usa\n",
            "france\n",
            "new zealand\n",
            "ek\n",
            "uk\n",
            "2\n"
          ]
        }
      ]
    },
    {
      "cell_type": "code",
      "metadata": {
        "colab": {
          "base_uri": "https://localhost:8080/"
        },
        "id": "0nijV4KPjZ7o",
        "outputId": "c64b4916-eabc-4d86-d614-71feb6b3efae"
      },
      "source": [
        "length = int(input())\n",
        "data = set()\n",
        "\n",
        "for i in range(0, length):\n",
        "    data.add(input())\n",
        "    \n",
        "print (len(data))"
      ],
      "execution_count": null,
      "outputs": [
        {
          "output_type": "stream",
          "name": "stdout",
          "text": [
            "2\n",
            "uk\n",
            "new zealand\n",
            "2\n"
          ]
        }
      ]
    },
    {
      "cell_type": "code",
      "metadata": {
        "colab": {
          "base_uri": "https://localhost:8080/"
        },
        "id": "Oq9UZlsKs1E9",
        "outputId": "02b86b2c-f99b-4e0e-ef7f-4add2bebb7f8"
      },
      "source": [
        "print(data)"
      ],
      "execution_count": null,
      "outputs": [
        {
          "output_type": "stream",
          "name": "stdout",
          "text": [
            "{'uk', 'new zealand'}\n"
          ]
        }
      ]
    },
    {
      "cell_type": "code",
      "metadata": {
        "colab": {
          "base_uri": "https://localhost:8080/"
        },
        "id": "xGEagLjng_H0",
        "outputId": "b9f27be8-944f-4ba7-bfca-d70cce2dc97c"
      },
      "source": [
        "n = int(input(\"Enter number of rows: \"))\n",
        "\n",
        "for i in range(1,n+1):\n",
        "    for j in range(1, i+1):\n",
        "        print(j, end=\"\")\n",
        "    print()\n",
        "  "
      ],
      "execution_count": null,
      "outputs": [
        {
          "output_type": "stream",
          "name": "stdout",
          "text": [
            "Enter number of rows: 5\n",
            "1\n",
            "12\n",
            "123\n",
            "1234\n",
            "12345\n"
          ]
        }
      ]
    },
    {
      "cell_type": "markdown",
      "metadata": {
        "id": "rXnfhgSKi3C6"
      },
      "source": [
        "**Set .discard()**"
      ]
    },
    {
      "cell_type": "code",
      "metadata": {
        "colab": {
          "base_uri": "https://localhost:8080/"
        },
        "id": "--OL6Wl7s55F",
        "outputId": "69cc2dbf-b058-4fbf-d0b8-2ba7bc69cc22"
      },
      "source": [
        "n=int(input())\n",
        "\n",
        "s = set(map(int,input().split()))\n",
        "\n",
        "N=int(input())\n",
        "\n",
        "for i in range(N) :\n",
        "  choice=input().split()\n",
        "  if choice[0]==\"pop\":\n",
        "      s.pop()\n",
        "  elif choice[0]==\"remove\":\n",
        "    s.remove(int(choice[1]))\n",
        "  elif choice[0]==\"discard\":\n",
        "    s.discard(int(choice[1]))\n",
        "print(sum(s))"
      ],
      "execution_count": null,
      "outputs": [
        {
          "output_type": "stream",
          "name": "stdout",
          "text": [
            "9\n",
            "1 2 3 4 5 6 7 8 9\n",
            "10\n",
            "pop\n",
            "remove 9\n",
            "discard 9\n",
            "discard 8\n",
            "remove 7\n",
            "pop\n",
            "discard 6\n",
            "remove 5\n",
            "pop\n",
            "discard 5\n",
            "4\n"
          ]
        }
      ]
    },
    {
      "cell_type": "code",
      "metadata": {
        "colab": {
          "base_uri": "https://localhost:8080/"
        },
        "id": "N_A6DWjQvLxU",
        "outputId": "8f98ceb4-7866-4af4-ec08-6077876bfdb2"
      },
      "source": [
        "print(s)"
      ],
      "execution_count": null,
      "outputs": [
        {
          "output_type": "stream",
          "name": "stdout",
          "text": [
            "{4}\n"
          ]
        }
      ]
    },
    {
      "cell_type": "code",
      "metadata": {
        "id": "7E_glE4xYusU"
      },
      "source": [
        "n=input()\n",
        "l=[]\n",
        "for i in range(n):\n",
        "  s=input().split\n",
        "  command=s[0]\n",
        "  N=s[1:]\n",
        "  if command=='insert'"
      ],
      "execution_count": null,
      "outputs": []
    },
    {
      "cell_type": "markdown",
      "metadata": {
        "id": "EeY5ScF3KcPd"
      },
      "source": [
        "**Set_mutations**"
      ]
    },
    {
      "cell_type": "code",
      "metadata": {
        "colab": {
          "base_uri": "https://localhost:8080/"
        },
        "id": "dSnM3AJLKbfl",
        "outputId": "2af71388-a899-4101-f6d1-c931230a85f9"
      },
      "source": [
        "_ = int(input())\n",
        "inp1 = set(map(int, input().split()))\n",
        "N = int(input())\n",
        "\n",
        "for _ in range(N):\n",
        "    cmd, _ = input().split()\n",
        "    inp2 = set(map(int, input().split()))\n",
        "    if(cmd == \"intersection_update\"):\n",
        "        inp1.intersection_update(inp2)\n",
        "    elif(cmd == \"update\"):\n",
        "        inp1.update(inp2)\n",
        "    elif(cmd == \"symmetric_difference_update\"):\n",
        "        inp1.symmetric_difference_update(inp2)\n",
        "    elif(cmd == \"difference_update\"):\n",
        "        inp1.difference_update(inp2)\n",
        "\n",
        "print(sum(inp1))"
      ],
      "execution_count": null,
      "outputs": [
        {
          "output_type": "stream",
          "name": "stdout",
          "text": [
            "16\n",
            "1 2 3 4 5 6 7 8 9 10 11 12 13 14 24 52\n",
            "4\n",
            "intersection_update 10\n",
            "2 3 5 6 8 9 1 4 7 11\n",
            "update 2\n",
            "55 66\n",
            "symmetric_difference_update 5\n",
            "22 7 35 62 58\n",
            "difference_update 7\n",
            "11 22 35 55 58 62 66\n",
            "38\n"
          ]
        }
      ]
    },
    {
      "cell_type": "markdown",
      "metadata": {
        "id": "tbcy29MmSX7j"
      },
      "source": [
        "**Set.difference()**"
      ]
    },
    {
      "cell_type": "code",
      "metadata": {
        "colab": {
          "base_uri": "https://localhost:8080/"
        },
        "id": "ffuHfJMvSXlF",
        "outputId": "e87076bf-2c9a-4bec-904e-9b9b60a92470"
      },
      "source": [
        "n1 = int(input())\n",
        "set_1 = set(map(int,input().split()))\n",
        "n2 = int(input())\n",
        "set_2 = set(map(int,input().split()))\n",
        "print(len(set_1.difference(set_2)))"
      ],
      "execution_count": null,
      "outputs": [
        {
          "output_type": "stream",
          "name": "stdout",
          "text": [
            "9\n",
            "1 2 3 4 5 6 7 8 9\n",
            "9\n",
            "10 1 2 3 11 21 55 6 8\n",
            "4\n"
          ]
        }
      ]
    },
    {
      "cell_type": "markdown",
      "metadata": {
        "id": "kUOItnY5oN-U"
      },
      "source": [
        "**Tuples**"
      ]
    },
    {
      "cell_type": "code",
      "metadata": {
        "id": "4K7-dw86Bn2K"
      },
      "source": [
        ""
      ],
      "execution_count": null,
      "outputs": []
    },
    {
      "cell_type": "code",
      "metadata": {
        "colab": {
          "base_uri": "https://localhost:8080/"
        },
        "id": "zgWGR0C-mmUc",
        "outputId": "aef2f8cf-9b68-485c-fb60-434d26285976"
      },
      "source": [
        "if __name__ == '__main__':\n",
        "    n = int(input())\n",
        "    integer_list = map(int, input().split())\n",
        "    integer_list=list(integer_list)\n",
        "    print(hash(tuple(integer_list)))"
      ],
      "execution_count": null,
      "outputs": [
        {
          "output_type": "stream",
          "name": "stdout",
          "text": [
            "2\n",
            "1 2\n",
            "3713081631934410656\n"
          ]
        }
      ]
    },
    {
      "cell_type": "markdown",
      "metadata": {
        "id": "X18P7D1EqiRT"
      },
      "source": [
        "**List Comprehension**"
      ]
    },
    {
      "cell_type": "code",
      "metadata": {
        "colab": {
          "base_uri": "https://localhost:8080/"
        },
        "id": "jWN-HMx7mxhE",
        "outputId": "2b450357-8076-472c-f314-459b70898606"
      },
      "source": [
        "if __name__ == '__main__':\n",
        "    x, y, z, n = (int(input()) for i in range(4))\n",
        "    print ([[a,b,c] for a in range(0,x+1) for b in range(0,y+1) for c in range(0,z+1) if a + b + c != n ])"
      ],
      "execution_count": null,
      "outputs": [
        {
          "output_type": "stream",
          "name": "stdout",
          "text": [
            "1\n",
            "1\n",
            "2\n",
            "3\n",
            "[[0, 0, 0], [0, 0, 1], [0, 0, 2], [0, 1, 0], [0, 1, 1], [1, 0, 0], [1, 0, 1], [1, 1, 0], [1, 1, 2]]\n"
          ]
        }
      ]
    },
    {
      "cell_type": "code",
      "metadata": {
        "colab": {
          "base_uri": "https://localhost:8080/"
        },
        "id": "5xT-MRQWVBRf",
        "outputId": "d2d78c3a-571b-414b-a16e-febd1375bc52"
      },
      "source": [
        "x=int(input())\n",
        "y=int(input())\n",
        "z=int(input())\n",
        "n=int(input())\n",
        "for i in range(x+1):\n",
        "  for j in range(y+1):\n",
        "    for k in range(z+1):\n",
        "      if i+j+k!=n:\n",
        "        print([i,j,k])"
      ],
      "execution_count": null,
      "outputs": [
        {
          "output_type": "stream",
          "name": "stdout",
          "text": [
            "1\n",
            "2\n",
            "2\n",
            "3\n",
            "[0, 0, 0]\n",
            "[0, 0, 1]\n",
            "[0, 0, 2]\n",
            "[0, 1, 0]\n",
            "[0, 1, 1]\n",
            "[0, 2, 0]\n",
            "[0, 2, 2]\n",
            "[1, 0, 0]\n",
            "[1, 0, 1]\n",
            "[1, 1, 0]\n",
            "[1, 1, 2]\n",
            "[1, 2, 1]\n",
            "[1, 2, 2]\n"
          ]
        }
      ]
    },
    {
      "cell_type": "markdown",
      "metadata": {
        "id": "dcZBeQkl05I6"
      },
      "source": [
        "**Lists**"
      ]
    },
    {
      "cell_type": "code",
      "metadata": {
        "colab": {
          "base_uri": "https://localhost:8080/"
        },
        "id": "UMzYqLlAsa9N",
        "outputId": "9b755cde-52e1-49f0-99c2-1ab951b7653a"
      },
      "source": [
        "N = int(input())\n",
        "lis=list()\n",
        "for _ in range(N):\n",
        "  s=input().strip().split(\" \")\n",
        "  if s[0]==\"insert\":\n",
        "    lis.insert(int(s[1]),int(s[2]))\n",
        "  elif s[0]==\"print\":\n",
        "    print(lis)\n",
        "  elif s[0]==\"remove\":\n",
        "    lis.remove(int(s[1]))\n",
        "  elif s[0]==\"append\":\n",
        "    lis.append(int(s[1]))\n",
        "  elif s[0]==\"sort\":\n",
        "    lis.sort()\n",
        "  elif s[0]==\"pop\":\n",
        "    lis.pop()\n",
        "  elif s[0]==\"reverse\":\n",
        "    lis.reverse()\n",
        "print(lis)    "
      ],
      "execution_count": null,
      "outputs": [
        {
          "output_type": "stream",
          "name": "stdout",
          "text": [
            "3\n",
            "append 1\n",
            "append 2\n",
            "insert 2 1\n",
            "[1, 2, 1]\n"
          ]
        }
      ]
    },
    {
      "cell_type": "markdown",
      "metadata": {
        "id": "30XXNdgU0kQS"
      },
      "source": [
        "**String swap case**"
      ]
    },
    {
      "cell_type": "code",
      "metadata": {
        "colab": {
          "base_uri": "https://localhost:8080/"
        },
        "id": "Ei-b0eW83Hot",
        "outputId": "15e9e04f-6383-4d2e-f613-b998a1a66c4a"
      },
      "source": [
        "s=input().swapcase()\n",
        "print(s)"
      ],
      "execution_count": null,
      "outputs": [
        {
          "output_type": "stream",
          "name": "stdout",
          "text": [
            "abCD\n",
            "ABcd\n"
          ]
        }
      ]
    },
    {
      "cell_type": "code",
      "metadata": {
        "colab": {
          "base_uri": "https://localhost:8080/"
        },
        "id": "2b-1zuJyvp1n",
        "outputId": "a823d771-89b7-4010-dee1-26e1f848fa72"
      },
      "source": [
        "s=input()\n",
        "result=''\n",
        "for char in s:\n",
        "  if char==char.lower():\n",
        "    result+=char.upper()\n",
        "  else:\n",
        "    result+=char.lower()\n",
        "print(result)    "
      ],
      "execution_count": null,
      "outputs": [
        {
          "output_type": "stream",
          "name": "stdout",
          "text": [
            "abCD\n",
            "ABcd\n"
          ]
        }
      ]
    },
    {
      "cell_type": "code",
      "metadata": {
        "colab": {
          "base_uri": "https://localhost:8080/"
        },
        "id": "TxGix6u4yImp",
        "outputId": "6c09e19e-e46d-4744-b62b-ac857f0f9a4b"
      },
      "source": [
        "def swap_case(s):\n",
        "    result = \"\"\n",
        "    for letter in s:\n",
        "        if letter == letter.upper():\n",
        "            result += letter.lower()\n",
        "        else:\n",
        "            result += letter.upper()\n",
        "    return result\n",
        "    \n",
        "    \n",
        "if __name__ == '__main__':\n",
        "    s = input()\n",
        "    result = swap_case(s)\n",
        "    print(result)"
      ],
      "execution_count": null,
      "outputs": [
        {
          "output_type": "stream",
          "name": "stdout",
          "text": [
            "abCD\n",
            "ABcd\n"
          ]
        }
      ]
    },
    {
      "cell_type": "markdown",
      "metadata": {
        "id": "hHwTnJTJEITR"
      },
      "source": [
        "**String Formatting**"
      ]
    },
    {
      "cell_type": "code",
      "metadata": {
        "colab": {
          "base_uri": "https://localhost:8080/"
        },
        "id": "Rxar1DdNELKS",
        "outputId": "d277a1c9-0ce4-41a2-a119-5d0fb5980f8f"
      },
      "source": [
        "def print_formatted(number):\n",
        "   \n",
        "  width = len(\"{0:b}\".format(n))\n",
        "  for i in range(1,n+1):\n",
        "    print(\"{0:{width}d} {0:{width}o} {0:{width}X} {0:{width}b}\".format(i, width=width))\n",
        "\n",
        "if __name__ == '__main__':\n",
        "  n = int(input())\n",
        "  print_formatted(n)"
      ],
      "execution_count": null,
      "outputs": [
        {
          "output_type": "stream",
          "name": "stdout",
          "text": [
            "17\n",
            "    1     1     1     1\n",
            "    2     2     2    10\n",
            "    3     3     3    11\n",
            "    4     4     4   100\n",
            "    5     5     5   101\n",
            "    6     6     6   110\n",
            "    7     7     7   111\n",
            "    8    10     8  1000\n",
            "    9    11     9  1001\n",
            "   10    12     A  1010\n",
            "   11    13     B  1011\n",
            "   12    14     C  1100\n",
            "   13    15     D  1101\n",
            "   14    16     E  1110\n",
            "   15    17     F  1111\n",
            "   16    20    10 10000\n",
            "   17    21    11 10001\n"
          ]
        }
      ]
    },
    {
      "cell_type": "markdown",
      "metadata": {
        "id": "fGOd_fHj-_IV"
      },
      "source": [
        "**String Split and Join**"
      ]
    },
    {
      "cell_type": "code",
      "metadata": {
        "colab": {
          "base_uri": "https://localhost:8080/"
        },
        "id": "FnlkpJgDyPrC",
        "outputId": "6c83e72b-c252-4f58-b97e-0b7ba364a343"
      },
      "source": [
        "def split_and_join(line):\n",
        "    line=line.split(' ')\n",
        "    line='-'.join(line)\n",
        "    return line\n",
        "    \n",
        "\n",
        "if __name__ == '__main__':\n",
        "    line = input()\n",
        "    result = split_and_join(line)\n",
        "    print(result)"
      ],
      "execution_count": null,
      "outputs": [
        {
          "output_type": "stream",
          "name": "stdout",
          "text": [
            "dsfsdsd dsf\n",
            "dsfsdsd-dsf\n"
          ]
        }
      ]
    },
    {
      "cell_type": "code",
      "metadata": {
        "colab": {
          "base_uri": "https://localhost:8080/",
          "height": 35
        },
        "id": "Xk3MlhtT-C6v",
        "outputId": "25710b05-e786-492b-c5e7-f761a2ba1f01"
      },
      "source": [
        "result"
      ],
      "execution_count": null,
      "outputs": [
        {
          "output_type": "execute_result",
          "data": {
            "application/vnd.google.colaboratory.intrinsic+json": {
              "type": "string"
            },
            "text/plain": [
              "'d-f-s-d'"
            ]
          },
          "metadata": {},
          "execution_count": 58
        }
      ]
    },
    {
      "cell_type": "markdown",
      "metadata": {
        "id": "tbFT-XinWn_D"
      },
      "source": [
        "**Strings What's your name**"
      ]
    },
    {
      "cell_type": "code",
      "metadata": {
        "colab": {
          "base_uri": "https://localhost:8080/"
        },
        "id": "ivbduuev-fTn",
        "outputId": "9ffece56-e83e-448e-f416-c7d4eac2f943"
      },
      "source": [
        "#\n",
        "# Complete the 'print_full_name' function below.\n",
        "#\n",
        "# The function is expected to return a STRING.\n",
        "# The function accepts following parameters:\n",
        "#  1. STRING first\n",
        "#  2. STRING last\n",
        "#\n",
        "\n",
        "def print_full_name(first, last):\n",
        "    name=first_name +' '+ last_name\n",
        "    op='Hello ' + name + '! You just delved into python.'\n",
        "    print(op)\n",
        "\n",
        "if __name__ == '__main__':\n",
        "    first_name = input()\n",
        "    last_name = input()\n",
        "    print_full_name(first_name, last_name)"
      ],
      "execution_count": null,
      "outputs": [
        {
          "output_type": "stream",
          "name": "stdout",
          "text": [
            "taran\n",
            "singh\n",
            "Hello taran singh! You just delved into python.\n"
          ]
        }
      ]
    },
    {
      "cell_type": "markdown",
      "metadata": {
        "id": "H-pfWlYXl7Nc"
      },
      "source": [
        "**String: Find a String**"
      ]
    },
    {
      "cell_type": "code",
      "metadata": {
        "colab": {
          "base_uri": "https://localhost:8080/"
        },
        "id": "Va2oQwRVcNhK",
        "outputId": "a6d482d6-e841-44bf-c970-fe2079731301"
      },
      "source": [
        "def count_substring(string, sub_string):\n",
        "  count = 0\n",
        "  while sub_string in string:\n",
        "    i = string.find(sub_string)\n",
        "    string = string[:i] + string[i + 1:]\n",
        "    count += 1\n",
        "  return count\n",
        "  \n",
        "\n",
        "if __name__ == '__main__':\n",
        "  string = input().strip()\n",
        "  sub_string = input().strip()\n",
        "    \n",
        "  count = count_substring(string, sub_string)\n",
        "  print(count)"
      ],
      "execution_count": null,
      "outputs": [
        {
          "output_type": "stream",
          "name": "stdout",
          "text": [
            "tararan\n",
            "ara\n",
            "2\n"
          ]
        }
      ]
    },
    {
      "cell_type": "markdown",
      "metadata": {
        "id": "-1CkwNssaLIW"
      },
      "source": [
        "**String Mutations**"
      ]
    },
    {
      "cell_type": "code",
      "metadata": {
        "colab": {
          "base_uri": "https://localhost:8080/"
        },
        "id": "eVIisXSHjOC0",
        "outputId": "410894f4-129a-495e-c447-fb534a72cbc1"
      },
      "source": [
        "def mutate_string(string, position, character):\n",
        "  string=s[:int(i)] + c + s[int(i)+1:]\n",
        "  \n",
        "  return string \n",
        "\n",
        "if __name__ == '__main__':\n",
        "  s = input()\n",
        "  i, c = input().split()\n",
        "  s_new = mutate_string(s, int(i), c)\n",
        "  print(s_new)"
      ],
      "execution_count": null,
      "outputs": [
        {
          "output_type": "stream",
          "name": "stdout",
          "text": [
            "abcraeads\n",
            "5 k\n",
            "abcrakads\n"
          ]
        }
      ]
    },
    {
      "cell_type": "markdown",
      "metadata": {
        "id": "5EQrqAJOZ5U_"
      },
      "source": [
        "**Alphabet Rangoli**"
      ]
    },
    {
      "cell_type": "code",
      "metadata": {
        "colab": {
          "base_uri": "https://localhost:8080/"
        },
        "id": "tTdFHZFEzoqh",
        "outputId": "75cff288-87a0-433e-9f99-f0df104f256f"
      },
      "source": [
        "def print_rangoli(size):\n",
        "  import string\n",
        "  alpha = string.ascii_lowercase\n",
        "\n",
        "  \n",
        "  L = []\n",
        "  for i in range(n):\n",
        "    s = \"-\".join(alpha[i:n])\n",
        "    L.append((s[::-1]+s[1:]).center(4*n-3, \"-\"))\n",
        "    print('\\n'.join(L[:0:-1]+L))\n",
        "\n",
        "if __name__ == '__main__':\n",
        "    n = int(input())\n",
        "    print_rangoli(n)\n"
      ],
      "execution_count": null,
      "outputs": [
        {
          "output_type": "stream",
          "name": "stdout",
          "text": [
            "4\n",
            "d-c-b-a-b-c-d\n",
            "--d-c-b-c-d--\n",
            "d-c-b-a-b-c-d\n",
            "--d-c-b-c-d--\n",
            "----d-c-d----\n",
            "--d-c-b-c-d--\n",
            "d-c-b-a-b-c-d\n",
            "--d-c-b-c-d--\n",
            "----d-c-d----\n",
            "------d------\n",
            "----d-c-d----\n",
            "--d-c-b-c-d--\n",
            "d-c-b-a-b-c-d\n",
            "--d-c-b-c-d--\n",
            "----d-c-d----\n",
            "------d------\n"
          ]
        }
      ]
    },
    {
      "cell_type": "markdown",
      "metadata": {
        "id": "kwnzlnJ6bF5n"
      },
      "source": [
        "**String Validators**"
      ]
    },
    {
      "cell_type": "code",
      "metadata": {
        "colab": {
          "base_uri": "https://localhost:8080/"
        },
        "id": "AYWF_597cdkz",
        "outputId": "fac66439-cdad-478f-860d-bc5c308e7433"
      },
      "source": [
        "str = input()\n",
        "print (any(c.isalnum()  for c in str))\n",
        "print (any(c.isalpha() for c in str))\n",
        "print (any(c.isdigit() for c in str))\n",
        "print (any(c.islower() for c in str))\n",
        "print (any(c.isupper() for c in str))"
      ],
      "execution_count": null,
      "outputs": [
        {
          "output_type": "stream",
          "name": "stdout",
          "text": [
            "aQ1\n",
            "True\n",
            "True\n",
            "True\n",
            "True\n",
            "True\n"
          ]
        }
      ]
    },
    {
      "cell_type": "markdown",
      "metadata": {
        "id": "w0CwzKAK7tMv"
      },
      "source": [
        "**Strings: Capitalize**"
      ]
    },
    {
      "cell_type": "code",
      "metadata": {
        "id": "5zsWJzNOvdlC"
      },
      "source": [
        "def solve(s):\n",
        "  s = list(s.split(' '))\n",
        "  p=[]\n",
        "  for i in s:\n",
        "    if i.isalpha():\n",
        "      p.append(i[0].upper()+i[1:]+\" \")\n",
        "    else:\n",
        "      p.append(i)\n",
        "      p.append(\" \")            \n",
        "  p=\"\".join(p)  \n",
        "  return p"
      ],
      "execution_count": null,
      "outputs": []
    },
    {
      "cell_type": "code",
      "metadata": {
        "colab": {
          "base_uri": "https://localhost:8080/",
          "height": 35
        },
        "id": "qkFyS5f_woK9",
        "outputId": "4afcb1d9-6819-43fc-f1d3-3900d9ae613c"
      },
      "source": [
        "solve('hello world')"
      ],
      "execution_count": null,
      "outputs": [
        {
          "output_type": "execute_result",
          "data": {
            "application/vnd.google.colaboratory.intrinsic+json": {
              "type": "string"
            },
            "text/plain": [
              "'Hello World '"
            ]
          },
          "metadata": {},
          "execution_count": 12
        }
      ]
    },
    {
      "cell_type": "markdown",
      "metadata": {
        "id": "CCOew_vSCak7"
      },
      "source": [
        "**Text Wrap**"
      ]
    },
    {
      "cell_type": "code",
      "metadata": {
        "colab": {
          "base_uri": "https://localhost:8080/"
        },
        "id": "015cRHJ1w2Da",
        "outputId": "b669c550-9dc0-4db4-c1fb-fbcd3309e88a"
      },
      "source": [
        "import textwrap\n",
        "\n",
        "def wrap(string, max_width):\n",
        "  l= list()\n",
        "  for i in range(0,len(string),max_width):\n",
        "     l.append(string[i:i+max_width])\n",
        "  return \"\\n\".join(l)\n",
        "\n",
        "\n",
        "\n",
        "if __name__ == '__main__':\n",
        "  string, max_width = input(), int(input())\n",
        "  result = wrap(string, max_width)\n",
        "  print(result)"
      ],
      "execution_count": null,
      "outputs": [
        {
          "output_type": "stream",
          "name": "stdout",
          "text": [
            "sadfsddsga\n",
            "2\n",
            "sa\n",
            "df\n",
            "sd\n",
            "ds\n",
            "ga\n"
          ]
        }
      ]
    },
    {
      "cell_type": "markdown",
      "metadata": {
        "id": "I1ZgTPT8CvSr"
      },
      "source": [
        "**Strings: Minion Game**"
      ]
    },
    {
      "cell_type": "code",
      "metadata": {
        "colab": {
          "base_uri": "https://localhost:8080/"
        },
        "id": "5YZrL9gU5T2U",
        "outputId": "4ce0a48f-50c4-4ce2-893f-afa4bf897e52"
      },
      "source": [
        "s = input()\n",
        "\n",
        "vowels = 'AEIOU'\n",
        "\n",
        "kscore = 0\n",
        "stscore = 0\n",
        "for i in range(len(s)):\n",
        "  if s[i] in vowels:\n",
        "    kscore += (len(s)-i)\n",
        "  else:\n",
        "    stscore += (len(s)-i)\n",
        "\n",
        "if kscore > stscore:\n",
        "  print(\"Kevin\", kscore)\n",
        "elif kscore < stscore:\n",
        "  print(\"Stuart\", stscore)\n",
        "else:\n",
        "  print(\"Draw\")"
      ],
      "execution_count": null,
      "outputs": [
        {
          "output_type": "stream",
          "name": "stdout",
          "text": [
            "BANANA\n",
            "Stuart 12\n"
          ]
        }
      ]
    },
    {
      "cell_type": "markdown",
      "metadata": {
        "id": "Wdg4DfB6RuIr"
      },
      "source": [
        "**Math : Mod Divmod**"
      ]
    },
    {
      "cell_type": "code",
      "metadata": {
        "colab": {
          "base_uri": "https://localhost:8080/"
        },
        "id": "1n_kP4ncQKOG",
        "outputId": "a95712ba-84f7-446e-a247-6aef68d09984"
      },
      "source": [
        "from math import floor\n",
        "a=int(input())\n",
        "b=int(input())\n",
        "print(floor(a/b))\n",
        "print(a%b)\n",
        "print(divmod(a,b))\n"
      ],
      "execution_count": null,
      "outputs": [
        {
          "output_type": "stream",
          "name": "stdout",
          "text": [
            "12\n",
            "10\n",
            "1\n",
            "2\n",
            "(1, 2)\n"
          ]
        }
      ]
    },
    {
      "cell_type": "code",
      "metadata": {
        "id": "0S_eJIwZVbKZ"
      },
      "source": [
        ""
      ],
      "execution_count": null,
      "outputs": []
    },
    {
      "cell_type": "markdown",
      "metadata": {
        "id": "ATB4jYoQVXyW"
      },
      "source": [
        "**Math: Pow Mod Power**"
      ]
    },
    {
      "cell_type": "code",
      "metadata": {
        "colab": {
          "base_uri": "https://localhost:8080/"
        },
        "id": "w3Iv1xzkQbIT",
        "outputId": "0bacaa4b-7c27-4c15-c02f-12b00ded0d63"
      },
      "source": [
        "a=int(input())\n",
        "\n",
        "b=int(input())\n",
        "\n",
        "c=int(input())\n",
        "print(pow(a,b))\n",
        "print(pow(a,b,c))\n"
      ],
      "execution_count": null,
      "outputs": [
        {
          "output_type": "stream",
          "name": "stdout",
          "text": [
            "2\n",
            "4\n",
            "2\n",
            "16\n",
            "0\n"
          ]
        }
      ]
    },
    {
      "cell_type": "markdown",
      "metadata": {
        "id": "0ZVAkF2m3uk1"
      },
      "source": [
        "**Triangle quest**"
      ]
    },
    {
      "cell_type": "code",
      "metadata": {
        "colab": {
          "base_uri": "https://localhost:8080/"
        },
        "id": "SlH7zt4X3t_D",
        "outputId": "3ce3526d-8a1d-40ad-9e02-c12272259726"
      },
      "source": [
        "for i in range(1,int(input())+1):\n",
        "  print(int((10**(i)/9)*i))"
      ],
      "execution_count": null,
      "outputs": [
        {
          "output_type": "stream",
          "name": "stdout",
          "text": [
            "4\n",
            "1\n",
            "22\n",
            "333\n",
            "4444\n"
          ]
        }
      ]
    },
    {
      "cell_type": "markdown",
      "metadata": {
        "id": "6lYdvI9PfI0B"
      },
      "source": [
        "**Triangle quest 2**"
      ]
    },
    {
      "cell_type": "code",
      "metadata": {
        "colab": {
          "base_uri": "https://localhost:8080/"
        },
        "id": "YHQ8DjkuR-fs",
        "outputId": "73745be9-1c87-4b85-f3a4-20deb31b9336"
      },
      "source": [
        "for x in range(1,int(input())+1):\n",
        "  print(((10**x - 1)//9)**2)"
      ],
      "execution_count": null,
      "outputs": [
        {
          "output_type": "stream",
          "name": "stdout",
          "text": [
            "9\n",
            "1\n",
            "121\n",
            "12321\n",
            "1234321\n",
            "123454321\n",
            "12345654321\n",
            "1234567654321\n",
            "123456787654321\n",
            "12345678987654321\n"
          ]
        }
      ]
    },
    {
      "cell_type": "code",
      "metadata": {
        "colab": {
          "base_uri": "https://localhost:8080/"
        },
        "id": "tLHhuUmof0Dv",
        "outputId": "90dacd88-ce8b-494e-f17f-805f8f8df787"
      },
      "source": [
        "for i in range(1,int(input())+1): #More than 2 lines will result in 0 score. Do not leave a blank line also\n",
        "   print(int((10**i-1)/9)**2)"
      ],
      "execution_count": null,
      "outputs": [
        {
          "output_type": "stream",
          "name": "stdout",
          "text": [
            "9\n",
            "1\n",
            "121\n",
            "12321\n",
            "1234321\n",
            "123454321\n",
            "12345654321\n",
            "1234567654321\n",
            "123456787654321\n",
            "12345678987654321\n"
          ]
        }
      ]
    },
    {
      "cell_type": "markdown",
      "metadata": {
        "id": "XFpNTSa7l__L"
      },
      "source": [
        "**Integers come in all sizes**"
      ]
    },
    {
      "cell_type": "code",
      "metadata": {
        "colab": {
          "base_uri": "https://localhost:8080/"
        },
        "id": "ffKjaBlSjLLf",
        "outputId": "3d436144-12ca-4d9c-c05b-80b3fb1e18de"
      },
      "source": [
        "a=int(input())\n",
        "b=int(input())\n",
        "c=int(input())\n",
        "d=int(input())\n",
        "print((a**b)+(c**d))"
      ],
      "execution_count": null,
      "outputs": [
        {
          "output_type": "stream",
          "name": "stdout",
          "text": [
            "1\n",
            "2\n",
            "3\n",
            "4\n",
            "82\n"
          ]
        }
      ]
    },
    {
      "cell_type": "markdown",
      "metadata": {
        "id": "GbFXnP2tzZ5B"
      },
      "source": [
        "**Polar Coordinates**"
      ]
    },
    {
      "cell_type": "code",
      "metadata": {
        "colab": {
          "base_uri": "https://localhost:8080/"
        },
        "id": "aXz3PX7Av1Ml",
        "outputId": "b2e24bab-0031-4d85-f537-56cee313dae6"
      },
      "source": [
        "import cmath\n",
        "a=input()\n",
        "print(*cmath.polar(complex(a)),sep='\\n')\n"
      ],
      "execution_count": null,
      "outputs": [
        {
          "output_type": "stream",
          "name": "stdout",
          "text": [
            "1+2j\n",
            "2.23606797749979\n",
            "1.1071487177940904\n"
          ]
        }
      ]
    },
    {
      "cell_type": "markdown",
      "metadata": {
        "id": "YBzyOF4d3G53"
      },
      "source": [
        "**String Formatting**"
      ]
    },
    {
      "cell_type": "code",
      "metadata": {
        "colab": {
          "base_uri": "https://localhost:8080/"
        },
        "id": "2xEA4RJXwT-v",
        "outputId": "33af7a52-fe10-4844-e535-b61b3bfcb44f"
      },
      "source": [
        "n =int(input())\n",
        "width = len(\"{0:b}\".format(n))\n",
        "for i in range(1,n+1):\n",
        "  print(\"{0:{width}d} {0:{width}o} {0:{width}X} {0:{width}b}\".format(i, width=width))\n"
      ],
      "execution_count": null,
      "outputs": [
        {
          "output_type": "stream",
          "name": "stdout",
          "text": [
            "6\n",
            "1 1 1 1\n",
            "2 2 2 10\n",
            "3 3 3 11\n",
            "4 4 4 100\n",
            "5 5 5 101\n",
            "6 6 6 110\n"
          ]
        }
      ]
    },
    {
      "cell_type": "markdown",
      "metadata": {
        "id": "h5rMdCzYFu9U"
      },
      "source": [
        "**Introduction to sets**"
      ]
    },
    {
      "cell_type": "code",
      "metadata": {
        "id": "8FsWHGQs18Ag",
        "colab": {
          "base_uri": "https://localhost:8080/"
        },
        "outputId": "4943c971-553b-4ddd-b253-b2b052843644"
      },
      "source": [
        "def average(array):\n",
        "  set_arr=set(arr)\n",
        "  res=sum(set_arr)/len(set_arr)\n",
        "  return res\n",
        "\n",
        "if __name__ == '__main__':\n",
        "  n = int(input())\n",
        "  arr = list(map(int, input().split()))\n",
        "  result = average(arr)\n",
        "  print(result)"
      ],
      "execution_count": null,
      "outputs": [
        {
          "output_type": "stream",
          "name": "stdout",
          "text": [
            "10\n",
            "161 182 161 154 176 170 167 171 170 174\n",
            "169.375\n"
          ]
        }
      ]
    },
    {
      "cell_type": "markdown",
      "metadata": {
        "id": "nNsTX4DVF1rG"
      },
      "source": [
        "**No Idea**"
      ]
    },
    {
      "cell_type": "code",
      "metadata": {
        "colab": {
          "base_uri": "https://localhost:8080/"
        },
        "id": "3nFfnioiEspj",
        "outputId": "e74f4be9-ab30-43d6-fb8f-8129e577995e"
      },
      "source": [
        "n, m = input().split()\n",
        "\n",
        "sc_ar = input().split()\n",
        "\n",
        "A = set(input().split())\n",
        "B = set(input().split())\n",
        "print (sum([(i in A) - (i in B) for i in sc_ar]))"
      ],
      "execution_count": null,
      "outputs": [
        {
          "output_type": "stream",
          "name": "stdout",
          "text": [
            " 2 3\n",
            "1 5 3\n",
            "1 7 8\n",
            "5 3\n",
            "-1\n"
          ]
        }
      ]
    },
    {
      "cell_type": "markdown",
      "metadata": {
        "id": "gsMe6OmMRoTS"
      },
      "source": [
        "**Symmetric Difference**"
      ]
    },
    {
      "cell_type": "code",
      "metadata": {
        "colab": {
          "base_uri": "https://localhost:8080/"
        },
        "id": "YdjMrbWwFBZJ",
        "outputId": "82dd1b24-acfe-4726-c790-6486a2f54a6f"
      },
      "source": [
        "a,b=(int(input()),input().split())\n",
        "c,d=(int(input()),input().split())\n",
        "x=set(b)\n",
        "y=set(d)\n",
        "p=y.difference(x)\n",
        "q=x.difference(y)\n",
        "r=p.union(q)\n",
        "print ('\\n'.join(sorted(r, key=int)))\n"
      ],
      "execution_count": null,
      "outputs": [
        {
          "output_type": "stream",
          "name": "stdout",
          "text": [
            "4\n",
            "2 5 3 1\n",
            "4\n",
            "5 6 7 1\n",
            "2\n",
            "7\n",
            "3\n",
            "6\n"
          ]
        }
      ]
    },
    {
      "cell_type": "markdown",
      "metadata": {
        "id": "Lgh5Pk2rSD04"
      },
      "source": [
        "**Set.discard()**\n"
      ]
    },
    {
      "cell_type": "code",
      "metadata": {
        "colab": {
          "base_uri": "https://localhost:8080/"
        },
        "id": "cO0v1m1KJC5z",
        "outputId": "8b5539ec-dcfb-45f8-f9d8-21fe8f0b14d7"
      },
      "source": [
        "n=int(input())\n",
        "S=set(map(int,input().split()))\n",
        "N=int(input())\n",
        "for i in range(N):\n",
        "  s=input().strip().split(\" \")\n",
        "  if s[0]==\"insert\":\n",
        "    S.insert(int(s[1]),int(s[2]))\n",
        "  elif s[0]==\"print\":\n",
        "    print(StopAsyncIteration)\n",
        "  elif s[0]==\"remove\":\n",
        "    S.remove(int(s[1]))\n",
        "  elif s[0]=='discard':\n",
        "    S.discard(int(s[1]))\n",
        "  elif s[0]==\"append\":\n",
        "    S.append(int(s[1]))\n",
        "  elif s[0]==\"sort\":\n",
        "    S.sort()\n",
        "  elif s[0]==\"pop\":\n",
        "    S.pop()\n",
        "  elif s[0]==\"reverse\":\n",
        "    S.reverse()\n",
        "print(sum(S))"
      ],
      "execution_count": null,
      "outputs": [
        {
          "output_type": "stream",
          "name": "stdout",
          "text": [
            "4\n",
            "1 2 3 4\n",
            "3\n",
            "remove 1\n",
            "pop\n",
            "discard 1\n",
            "7\n"
          ]
        }
      ]
    },
    {
      "cell_type": "markdown",
      "metadata": {
        "id": "coalkF4ZWKfk"
      },
      "source": [
        "**Set.union()**"
      ]
    },
    {
      "cell_type": "code",
      "metadata": {
        "colab": {
          "base_uri": "https://localhost:8080/"
        },
        "id": "BDp6Ka4yW6oA",
        "outputId": "a6f24afb-0ad5-495a-ee51-e3078805b654"
      },
      "source": [
        "a=(int(input()))\n",
        "x=set(input().split())\n",
        "c=(int(input()))\n",
        "y=set(input().split())\n",
        "p=x.union(y)\n",
        "print(len(p))"
      ],
      "execution_count": null,
      "outputs": [
        {
          "output_type": "stream",
          "name": "stdout",
          "text": [
            "4\n",
            "1 2 3 4\n",
            "4 \n",
            "3 4 5 6\n",
            "6\n"
          ]
        }
      ]
    },
    {
      "cell_type": "markdown",
      "metadata": {
        "id": "VjMvLWjWeSOb"
      },
      "source": [
        "**Set.intersection()**"
      ]
    },
    {
      "cell_type": "code",
      "metadata": {
        "colab": {
          "base_uri": "https://localhost:8080/"
        },
        "id": "EQKCxsJaW8Po",
        "outputId": "cc93693a-c571-4e4f-93ba-5c8d03bdac61"
      },
      "source": [
        "a=(int(input()))\n",
        "x=set(input().split())\n",
        "c=(int(input()))\n",
        "y=set(input().split())\n",
        "p=x.intersection(y)\n",
        "print(len(p))"
      ],
      "execution_count": null,
      "outputs": [
        {
          "output_type": "stream",
          "name": "stdout",
          "text": [
            "4\n",
            "1 2 3 4\n",
            "4\n",
            "3 4 5 6\n",
            "2\n"
          ]
        }
      ]
    },
    {
      "cell_type": "markdown",
      "metadata": {
        "id": "SjNkgRLKkf9P"
      },
      "source": [
        "**itertools.product()**"
      ]
    },
    {
      "cell_type": "code",
      "metadata": {
        "colab": {
          "base_uri": "https://localhost:8080/"
        },
        "id": "trYnTLQkebjH",
        "outputId": "2b9fd6e8-cfe0-42c0-aa50-a187c0f15b8b"
      },
      "source": [
        "import itertools\n",
        "\n",
        "A = [int(x) for x in input().split()]\n",
        "B = [int(y) for y in input().split()]\n",
        "\n",
        "print(*itertools.product(A, B))"
      ],
      "execution_count": null,
      "outputs": [
        {
          "output_type": "stream",
          "name": "stdout",
          "text": [
            "3 4\n",
            "4 2\n",
            "(3, 4) (3, 2) (4, 4) (4, 2)\n"
          ]
        }
      ]
    },
    {
      "cell_type": "code",
      "metadata": {
        "colab": {
          "base_uri": "https://localhost:8080/"
        },
        "id": "bSc24EzFelm4",
        "outputId": "a538437e-9aab-4cdc-e305-511776e33ddd"
      },
      "source": [
        "from itertools import product\n",
        "a=input().split()\n",
        "b=input().split()\n",
        "for i in range(len(a)):\n",
        "  for j in range(len(b)):\n",
        "    print(*product(a[i],b[j]))\n"
      ],
      "execution_count": null,
      "outputs": [
        {
          "output_type": "stream",
          "name": "stdout",
          "text": [
            "3 4\n",
            "2 3\n",
            "('3', '2')\n",
            "('3', '3')\n",
            "('4', '2')\n",
            "('4', '3')\n"
          ]
        }
      ]
    },
    {
      "cell_type": "markdown",
      "metadata": {
        "id": "iYDZwmFVmEMO"
      },
      "source": [
        "**itertools.permutations**"
      ]
    },
    {
      "cell_type": "code",
      "metadata": {
        "colab": {
          "base_uri": "https://localhost:8080/"
        },
        "id": "HzeaiSFWiOEc",
        "outputId": "bc20bd6c-d759-4191-e979-75f096da8c35"
      },
      "source": [
        "from itertools import permutations\n",
        "s,n = input().split()\n",
        "print(*[''.join(i) for i in permutations(sorted(s),int(n))],sep='\\n')"
      ],
      "execution_count": null,
      "outputs": [
        {
          "output_type": "stream",
          "name": "stdout",
          "text": [
            "HACK 2\n",
            "AC\n",
            "AH\n",
            "AK\n",
            "CA\n",
            "CH\n",
            "CK\n",
            "HA\n",
            "HC\n",
            "HK\n",
            "KA\n",
            "KC\n",
            "KH\n"
          ]
        }
      ]
    },
    {
      "cell_type": "code",
      "metadata": {
        "colab": {
          "base_uri": "https://localhost:8080/"
        },
        "id": "NgNUnXdUipX5",
        "outputId": "37fbdfb5-c153-42a6-9472-fef16b2d83c4"
      },
      "source": [
        "print(*permutations('JACK',4))"
      ],
      "execution_count": null,
      "outputs": [
        {
          "output_type": "stream",
          "name": "stdout",
          "text": [
            "('J', 'A', 'C', 'K') ('J', 'A', 'K', 'C') ('J', 'C', 'A', 'K') ('J', 'C', 'K', 'A') ('J', 'K', 'A', 'C') ('J', 'K', 'C', 'A') ('A', 'J', 'C', 'K') ('A', 'J', 'K', 'C') ('A', 'C', 'J', 'K') ('A', 'C', 'K', 'J') ('A', 'K', 'J', 'C') ('A', 'K', 'C', 'J') ('C', 'J', 'A', 'K') ('C', 'J', 'K', 'A') ('C', 'A', 'J', 'K') ('C', 'A', 'K', 'J') ('C', 'K', 'J', 'A') ('C', 'K', 'A', 'J') ('K', 'J', 'A', 'C') ('K', 'J', 'C', 'A') ('K', 'A', 'J', 'C') ('K', 'A', 'C', 'J') ('K', 'C', 'J', 'A') ('K', 'C', 'A', 'J')\n"
          ]
        }
      ]
    },
    {
      "cell_type": "markdown",
      "metadata": {
        "id": "Qm6MV2ksmM5w"
      },
      "source": [
        "**itertools.combinations**"
      ]
    },
    {
      "cell_type": "code",
      "metadata": {
        "colab": {
          "base_uri": "https://localhost:8080/"
        },
        "id": "AGCWTErNlIwj",
        "outputId": "523721df-162f-435b-f16f-f0bad075e45a"
      },
      "source": [
        "from itertools import combinations\n",
        "s,n = input().split()\n",
        "for i in range(1,int(n)+1):\n",
        "  for j in combinations(sorted(s),i):\n",
        "    print(''.join(j))"
      ],
      "execution_count": null,
      "outputs": [
        {
          "output_type": "stream",
          "name": "stdout",
          "text": [
            "hack 2\n",
            "a\n",
            "c\n",
            "h\n",
            "k\n",
            "ac\n",
            "ah\n",
            "ak\n",
            "ch\n",
            "ck\n",
            "hk\n"
          ]
        }
      ]
    },
    {
      "cell_type": "code",
      "metadata": {
        "colab": {
          "base_uri": "https://localhost:8080/"
        },
        "id": "Md_tBpZDmRRn",
        "outputId": "e31c1a38-1e0b-4a30-e35b-1ec8a8ccfb32"
      },
      "source": [
        "from itertools import combinations_with_replacement\n",
        "s,n = input().split()\n",
        "print(*[''.join(i) for i in combinations_with_replacement(sorted(s),int(n))],sep='\\n')"
      ],
      "execution_count": null,
      "outputs": [
        {
          "output_type": "stream",
          "name": "stdout",
          "text": [
            "HACK 2\n",
            "AA\n",
            "AC\n",
            "AH\n",
            "AK\n",
            "CC\n",
            "CH\n",
            "CK\n",
            "HH\n",
            "HK\n",
            "KK\n"
          ]
        }
      ]
    },
    {
      "cell_type": "code",
      "metadata": {
        "colab": {
          "base_uri": "https://localhost:8080/"
        },
        "id": "g64AtQ0e4gO6",
        "outputId": "20431320-4517-4150-c2d4-e1e21b98ca70"
      },
      "source": [
        "a=set(input())\n",
        "b=int(input())\n",
        "c=set(input())\n",
        "d=set(input())\n",
        "if a in c and c in d:\n",
        "  print(True)\n",
        "else:\n",
        "  print(False)"
      ],
      "execution_count": null,
      "outputs": [
        {
          "output_type": "stream",
          "name": "stdout",
          "text": [
            "1 2 3 4 5 6 7 8 9 10 11 12 23 45 84 78\n",
            "2\n",
            "1 2 3 4 5\n",
            "100 11 12\n",
            "False\n"
          ]
        }
      ]
    },
    {
      "cell_type": "code",
      "metadata": {
        "colab": {
          "base_uri": "https://localhost:8080/"
        },
        "id": "UUxAio9Z-1Zf",
        "outputId": "8696429a-1e63-4d6d-a423-cc5697248e82"
      },
      "source": [
        "A = set(input().split())\n",
        "\n",
        "for _ in range(int(input())):\n",
        "    if not A.issuperset(set(input().split())):\n",
        "        print(False)\n",
        "        break\n",
        "else:\n",
        "    print(True)"
      ],
      "execution_count": null,
      "outputs": [
        {
          "output_type": "stream",
          "name": "stdout",
          "text": [
            "1 2 3 4 5 6 7 8 9 10 11 12 23 45 84 78\n",
            "2\n",
            "1 2 3 4 5\n",
            "100 11 12\n",
            "False\n"
          ]
        }
      ]
    },
    {
      "cell_type": "markdown",
      "metadata": {
        "id": "Vs_VYUdeW5E4"
      },
      "source": [
        "**Numpy Concatenate**"
      ]
    },
    {
      "cell_type": "code",
      "metadata": {
        "id": "jCHrkFsQ_S_O",
        "colab": {
          "base_uri": "https://localhost:8080/"
        },
        "outputId": "c95e5813-ad60-4fda-8529-a67e2a87f689"
      },
      "source": [
        "import numpy as np\n",
        "N,M,P = map(int,input().split())\n",
        "A = np.array([input().split() for _ in range(N)],int)\n",
        "B = np.array([input().split() for _ in range(M)],int)\n",
        "print(np.concatenate((A,B), axis = 0))"
      ],
      "execution_count": null,
      "outputs": [
        {
          "output_type": "stream",
          "name": "stdout",
          "text": [
            "4 3 2\n",
            "1 2\n",
            "1 2\n",
            "1 2\n",
            "1 2\n",
            "3 4\n",
            "3 4\n",
            "3 4\n",
            "[[1 2]\n",
            " [1 2]\n",
            " [1 2]\n",
            " [1 2]\n",
            " [3 4]\n",
            " [3 4]\n",
            " [3 4]]\n"
          ]
        }
      ]
    },
    {
      "cell_type": "markdown",
      "metadata": {
        "id": "Pq5c4tyUaYhH"
      },
      "source": [
        "**Numpy Shape and reshape**"
      ]
    },
    {
      "cell_type": "code",
      "metadata": {
        "colab": {
          "base_uri": "https://localhost:8080/"
        },
        "id": "r3Y_qC-vW7W0",
        "outputId": "ca8bb399-373e-4ec0-9e63-bb3035b2933c"
      },
      "source": [
        "import numpy as np\n",
        "n=input().split()\n",
        "\n",
        "print(np.array(n,int).reshape([3,3]))"
      ],
      "execution_count": null,
      "outputs": [
        {
          "output_type": "stream",
          "name": "stdout",
          "text": [
            "1 2 3 4 5 6 7 8 9\n",
            "[[1 2 3]\n",
            " [4 5 6]\n",
            " [7 8 9]]\n"
          ]
        }
      ]
    },
    {
      "cell_type": "markdown",
      "metadata": {
        "id": "az31ZCUUadsO"
      },
      "source": [
        "**Numpy:Transpose and Flatten**"
      ]
    },
    {
      "cell_type": "code",
      "metadata": {
        "colab": {
          "base_uri": "https://localhost:8080/"
        },
        "id": "nBuBbpkGY-EL",
        "outputId": "9ecac853-bfd9-4d64-9261-ae929cfc61a5"
      },
      "source": [
        "n, m = map(int, input().split())\n",
        "array = np.array([input().strip().split() for _ in range(n)], int)\n",
        "print (array.transpose())\n",
        "print (array.flatten())"
      ],
      "execution_count": null,
      "outputs": [
        {
          "output_type": "stream",
          "name": "stdout",
          "text": [
            "2 2\n",
            "1 2\n",
            "3 4\n",
            "[[1 3]\n",
            " [2 4]]\n",
            "[1 2 3 4]\n"
          ]
        }
      ]
    },
    {
      "cell_type": "code",
      "metadata": {
        "colab": {
          "base_uri": "https://localhost:8080/"
        },
        "id": "T9XUk80zZHNi",
        "outputId": "0538846e-75d1-4329-ccb6-fecc8fd21f90"
      },
      "source": [
        "import numpy as np\n",
        "m,p=map(int,input().split())\n",
        "a=np.ones((m,p),int)"
      ],
      "execution_count": null,
      "outputs": [
        {
          "name": "stdout",
          "output_type": "stream",
          "text": [
            "3 3\n"
          ]
        }
      ]
    },
    {
      "cell_type": "code",
      "metadata": {
        "colab": {
          "base_uri": "https://localhost:8080/"
        },
        "id": "FBeS1VD3dXeF",
        "outputId": "0c05ae83-5d3e-4492-e44e-a134abc6a6a5"
      },
      "source": [
        "print(a)"
      ],
      "execution_count": null,
      "outputs": [
        {
          "output_type": "stream",
          "name": "stdout",
          "text": [
            "[[1 1 1]\n",
            " [1 1 1]\n",
            " [1 1 1]]\n"
          ]
        }
      ]
    },
    {
      "cell_type": "code",
      "metadata": {
        "colab": {
          "base_uri": "https://localhost:8080/"
        },
        "id": "OskRvJ9Id5tC",
        "outputId": "f8b8f914-0694-43cf-a92b-c4ea8be98b94"
      },
      "source": [
        "nums = tuple(map(int, input().split()))\n",
        "print (np.zeros(nums, dtype = np.int))\n",
        "print (np.ones(nums, dtype = np.int))"
      ],
      "execution_count": null,
      "outputs": [
        {
          "output_type": "stream",
          "name": "stdout",
          "text": [
            "3 3 3\n",
            "[[[0 0 0]\n",
            "  [0 0 0]\n",
            "  [0 0 0]]\n",
            "\n",
            " [[0 0 0]\n",
            "  [0 0 0]\n",
            "  [0 0 0]]\n",
            "\n",
            " [[0 0 0]\n",
            "  [0 0 0]\n",
            "  [0 0 0]]]\n",
            "[[[1 1 1]\n",
            "  [1 1 1]\n",
            "  [1 1 1]]\n",
            "\n",
            " [[1 1 1]\n",
            "  [1 1 1]\n",
            "  [1 1 1]]\n",
            "\n",
            " [[1 1 1]\n",
            "  [1 1 1]\n",
            "  [1 1 1]]]\n"
          ]
        }
      ]
    },
    {
      "cell_type": "markdown",
      "metadata": {
        "id": "WEqWYkYgaf6o"
      },
      "source": [
        "**Numpy: Mean,Var and Std**"
      ]
    },
    {
      "cell_type": "code",
      "metadata": {
        "colab": {
          "base_uri": "https://localhost:8080/"
        },
        "id": "4RPjC9RUeQA-",
        "outputId": "11f367eb-4799-42a3-865c-9cd30d1d486d"
      },
      "source": [
        "import numpy\n",
        "\n",
        "NM = input().split()\n",
        "n = int(NM[0])\n",
        "m = int(NM[1])\n",
        "arr = []\n",
        "for i in range(n):\n",
        "    m = list(map(int, input().split()))\n",
        "    arr.append(m)\n",
        "arr = numpy.array(arr)\n",
        "\n",
        "mean = numpy.mean(arr, axis = 1)\n",
        "var = numpy.var(arr, axis = 0)\n",
        "std = numpy.std(arr)\n",
        "\n",
        "print(mean)\n",
        "print(var)\n",
        "\n",
        "rnd = numpy.around(std, 11)\n",
        "print(rnd)"
      ],
      "execution_count": 13,
      "outputs": [
        {
          "output_type": "stream",
          "name": "stdout",
          "text": [
            "2 2\n",
            "1 2\n",
            "3 4\n",
            "[ 1.5  3.5]\n",
            "[ 1.  1.]\n",
            "1.11803398875\n"
          ]
        }
      ]
    },
    {
      "cell_type": "markdown",
      "metadata": {
        "id": "844spzIVVwpM"
      },
      "source": [
        "**Numpy: Linear Algebra**"
      ]
    },
    {
      "cell_type": "code",
      "metadata": {
        "id": "z5_8eiIpeZm0",
        "colab": {
          "base_uri": "https://localhost:8080/"
        },
        "outputId": "5816895d-65a2-4cf6-8d69-d6b521bbdcf9"
      },
      "source": [
        "#The first line contains the integer N.\n",
        "import numpy\n",
        "numpy.set_printoptions(legacy='1.13')\n",
        "N = int(input())\n",
        "#The next N lines contains the N space separated elements of array A.\n",
        "A = numpy.array([input().strip().split() for _ in range(N)], float)\n",
        "\n",
        "#Print the determinant of A.\n",
        "print (numpy.linalg.det(A))"
      ],
      "execution_count": 5,
      "outputs": [
        {
          "output_type": "stream",
          "name": "stdout",
          "text": [
            "3\n",
            "2 3 45\n",
            "35 4 2\n",
            "2 5 1\n",
            "7410.0\n"
          ]
        }
      ]
    },
    {
      "cell_type": "markdown",
      "metadata": {
        "id": "YW5EVLbRgkil"
      },
      "source": [
        "**Numpy: Polynomials**"
      ]
    },
    {
      "cell_type": "code",
      "metadata": {
        "colab": {
          "base_uri": "https://localhost:8080/"
        },
        "id": "Fs2C10o_S1bF",
        "outputId": "751257c0-edc1-4f34-a2cb-9cd094991b76"
      },
      "source": [
        "import numpy\n",
        "\n",
        "a = list(map(float, input().split()))\n",
        "\n",
        "print(numpy.polyval(a, float(input())))"
      ],
      "execution_count": 14,
      "outputs": [
        {
          "output_type": "stream",
          "name": "stdout",
          "text": [
            "1.1 2 3\n",
            "4\n",
            "28.6\n"
          ]
        }
      ]
    },
    {
      "cell_type": "code",
      "metadata": {
        "id": "cQYp8yWAgbNV"
      },
      "source": [
        ""
      ],
      "execution_count": null,
      "outputs": []
    }
  ]
}